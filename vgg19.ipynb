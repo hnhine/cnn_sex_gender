{
  "cells": [
    {
      "cell_type": "markdown",
      "metadata": {
        "id": "view-in-github",
        "colab_type": "text"
      },
      "source": [
        "<a href=\"https://colab.research.google.com/github/Tucker6742/CNN-sex-and-gender/blob/main/CNN_Sex_and_Age.ipynb\" target=\"_parent\"><img src=\"https://colab.research.google.com/assets/colab-badge.svg\" alt=\"Open In Colab\"/></a>"
      ]
    },
    {
      "cell_type": "markdown",
      "metadata": {
        "id": "IRnOno9pbyRI"
      },
      "source": [
        "# $\\text{Import kaggle and import dataset}$\n"
      ]
    },
    {
      "cell_type": "markdown",
      "source": [
        "## $\\text{Kaggle JSON}$"
      ],
      "metadata": {
        "id": "Ku-7ynlJ6qi5"
      }
    },
    {
      "cell_type": "code",
      "execution_count": null,
      "metadata": {
        "id": "cgbcmy_t5jIJ",
        "colab": {
          "base_uri": "https://localhost:8080/"
        },
        "outputId": "38bef724-cc82-427b-fa6c-be13f052ae12"
      },
      "outputs": [
        {
          "output_type": "stream",
          "name": "stdout",
          "text": [
            "Retrieving folder list\n",
            "Processing file 19KNLUykCcTci810FpX5uxeyvYh8fNH68 kaggle.json\n",
            "Retrieving folder list completed\n",
            "Building directory structure\n",
            "Building directory structure completed\n",
            "Downloading...\n",
            "From: https://drive.google.com/uc?id=19KNLUykCcTci810FpX5uxeyvYh8fNH68\n",
            "To: /content/ML-AI 2/kaggle.json\n",
            "100% 66.0/66.0 [00:00<00:00, 76.2kB/s]\n",
            "Download completed\n"
          ]
        }
      ],
      "source": [
        "!gdown https://drive.google.com/drive/folders/1hD77y2Ircm2H7c9FUgwPBwbxiFfB0v0a?usp=share_link --folder --fuzzy -O \"/content/ML-AI 2\""
      ]
    },
    {
      "cell_type": "markdown",
      "source": [
        "## $\\text{Model check point}$"
      ],
      "metadata": {
        "id": "7FyB71u46xy5"
      }
    },
    {
      "cell_type": "code",
      "source": [
        "!gdown https://drive.google.com/drive/folders/1Vjmp-JStN5dAVnOOwtvEyisW3hb6rsyq?usp=sharing --folder --fuzzy -O \"/content/Checkpoint\""
      ],
      "metadata": {
        "id": "zpmFYPQh67Jr",
        "colab": {
          "base_uri": "https://localhost:8080/"
        },
        "outputId": "06224e05-deb5-42b4-8d4e-66562c5734a8"
      },
      "execution_count": null,
      "outputs": [
        {
          "output_type": "stream",
          "name": "stdout",
          "text": [
            "Retrieving folder list\n",
            "Processing file 1Z_6h3X5gVkjkqVn-UrgRVvlW_WiX5E9i best_model.pth\n",
            "Processing file 1TliFl91fs3W46zTNZ0TXjbQuc_R1n3Qc model2_9_vgg19.pth\n",
            "Retrieving folder list completed\n",
            "Building directory structure\n",
            "Building directory structure completed\n",
            "Downloading...\n",
            "From: https://drive.google.com/uc?id=1Z_6h3X5gVkjkqVn-UrgRVvlW_WiX5E9i\n",
            "To: /content/Checkpoint/best_model.pth\n",
            "100% 1.12G/1.12G [00:11<00:00, 95.2MB/s]\n",
            "Downloading...\n",
            "From: https://drive.google.com/uc?id=1TliFl91fs3W46zTNZ0TXjbQuc_R1n3Qc\n",
            "To: /content/Checkpoint/model2_9_vgg19.pth\n",
            "100% 1.12G/1.12G [00:17<00:00, 64.8MB/s]\n",
            "Download completed\n"
          ]
        }
      ]
    },
    {
      "cell_type": "code",
      "execution_count": null,
      "metadata": {
        "id": "OAKLjp44TkeD"
      },
      "outputs": [],
      "source": [
        "!mkdir -p ~/.kaggle\n",
        "!cp \"/content/ML-AI 2/kaggle.json\" ~/.kaggle/"
      ]
    },
    {
      "cell_type": "code",
      "execution_count": null,
      "metadata": {
        "colab": {
          "base_uri": "https://localhost:8080/"
        },
        "id": "wVJgWYDWUzDs",
        "outputId": "16dcf501-d73b-4ab3-a5a2-b3e48e86865b"
      },
      "outputs": [
        {
          "output_type": "stream",
          "name": "stdout",
          "text": [
            "Warning: Your Kaggle API key is readable by other users on this system! To fix this, you can run 'chmod 600 /root/.kaggle/kaggle.json'\n",
            "Downloading utkface-new.zip to /content\n",
            " 92% 305M/331M [00:02<00:00, 152MB/s]\n",
            "100% 331M/331M [00:02<00:00, 164MB/s]\n"
          ]
        }
      ],
      "source": [
        "!kaggle datasets download -d jangedoo/utkface-new"
      ]
    },
    {
      "cell_type": "code",
      "execution_count": null,
      "metadata": {
        "id": "nD1fl1ufVeHv"
      },
      "outputs": [],
      "source": [
        "!unzip -qq /content/utkface-new.zip -d /content/kaggle"
      ]
    },
    {
      "cell_type": "markdown",
      "source": [
        "# $\\text{Connect to other drive}$"
      ],
      "metadata": {
        "id": "-SkR_zoG86F7"
      }
    },
    {
      "cell_type": "code",
      "source": [
        "!sudo echo -ne '\\n' | sudo add-apt-repository ppa:alessandro-strada/ppa >/dev/null 2>&1 # note: >/dev/null 2>&1 is used to supress printing\n",
        "!sudo apt update >/dev/null 2>&1\n",
        "!sudo apt install google-drive-ocamlfuse >/dev/null 2>&1\n",
        "!google-drive-ocamlfuse\n",
        "!sudo apt-get install w3m >/dev/null 2>&1 # to act as web browser \n",
        "!xdg-settings set default-web-browser w3m.desktop >/dev/null 2>&1 # to set default browser \n",
        "%cd /content\n",
        "!mkdir gdrive\n",
        "%cd gdrive\n",
        "!mkdir \"My Drive\"\n",
        "!google-drive-ocamlfuse \"/content/gdrive/My Drive\""
      ],
      "metadata": {
        "id": "iAlyJs_Z8fnj"
      },
      "execution_count": null,
      "outputs": []
    },
    {
      "cell_type": "markdown",
      "metadata": {
        "id": "uBQnNXzvcM41"
      },
      "source": [
        "# $\\text{Import library}$\n"
      ]
    },
    {
      "cell_type": "code",
      "execution_count": null,
      "metadata": {
        "id": "O7I-4JAQXcXr"
      },
      "outputs": [],
      "source": [
        "import numpy as np\n",
        "import pandas as pd\n",
        "import os\n",
        "import cv2\n",
        "from google.colab.patches import cv2_imshow\n",
        "import matplotlib.pyplot as plt\n",
        "import random\n",
        "from PIL import Image"
      ]
    },
    {
      "cell_type": "markdown",
      "metadata": {
        "id": "pFMSMzs_BQ3B"
      },
      "source": [
        "## $\\text{Info of model function}$\n",
        "- Module : Rather than using the Sequential\n",
        "- PyTorch class to implement LeNet, we’ll instead subclass the Module object so you can see how PyTorch implements neural networks using classes\n",
        "- Conv2d : PyTorch’s implementation of convolutional layers\n",
        "- Linear : Fully connected layers\n",
        "- MaxPool2d : Applies 2D max-pooling to reduce the spatial dimensions of the input volume\n",
        "- ReLU : Our ReLU activation function\n",
        "- LogSoftmax : Used when building our softmax classifier to return the predicted probabilities of each class\n",
        "- flatten : Flattens the output of a multi-dimensional volume (e.g., a CONV or POOL layer) such that we can apply fully connected layers to it\n",
        "\n",
        "\n"
      ]
    },
    {
      "cell_type": "code",
      "execution_count": null,
      "metadata": {
        "id": "ETCf3qmHBGJC"
      },
      "outputs": [],
      "source": [
        "# import the necessary packages\n",
        "from torch.nn import Module\n",
        "from torch.nn import Conv2d\n",
        "from torch.nn import Linear\n",
        "from torch.nn import MaxPool2d\n",
        "from torch.nn import ReLU\n",
        "from torch.nn import LogSoftmax\n",
        "from torch import flatten\n",
        "from torchsummary import summary\n",
        "from torchvision.models import vgg19, VGG19_Weights"
      ]
    },
    {
      "cell_type": "code",
      "execution_count": null,
      "metadata": {
        "id": "u_hjsa0MFYq6"
      },
      "outputs": [],
      "source": [
        "# set the matplotlib backend so figures can be saved in the background\n",
        "import matplotlib\n",
        "matplotlib.use(\"Agg\")\n",
        "# import the necessary packages\n",
        "from sklearn.metrics import classification_report\n",
        "from sklearn.model_selection import StratifiedKFold as kfold\n",
        "from torch.utils.data import random_split\n",
        "from torch.utils.data import DataLoader\n",
        "from torchvision.transforms import ToTensor\n",
        "from torchvision.datasets import KMNIST\n",
        "from torch.optim import SGD, Adam\n",
        "from torch import nn\n",
        "import matplotlib.pyplot as plt\n",
        "import numpy as np\n",
        "import argparse\n",
        "import torch\n",
        "import time\n",
        "from torch.utils.data import TensorDataset, DataLoader\n",
        "from sklearn.model_selection import train_test_split as split_class_even\n",
        "from sklearn.metrics import confusion_matrix, ConfusionMatrixDisplay"
      ]
    },
    {
      "cell_type": "code",
      "execution_count": null,
      "metadata": {
        "colab": {
          "base_uri": "https://localhost:8080/"
        },
        "id": "A3NQ_p3vZDqB",
        "outputId": "9f8a69f3-2a9a-45d0-f9e6-3ff09753050f"
      },
      "outputs": [
        {
          "output_type": "execute_result",
          "data": {
            "text/plain": [
              "23708"
            ]
          },
          "metadata": {},
          "execution_count": 12
        }
      ],
      "source": [
        "base_path = \"/content/kaggle/UTKFace/\"\n",
        "base_path2 = \"/content/kaggle/crop_part1\"\n",
        "base_path3 = \"/content/kaggle/utkface_aligned_cropped\"\n",
        "base_path4 = \"/content/Tests/\"\n",
        "files = os.listdir(base_path)\n",
        "# files2 = os.listdir(base_path2)\n",
        "# files3 = os.listdir(base_path3)\n",
        "# files4 = os.listdir(base_path4)\n",
        "len(files)\n",
        "# len(files2)\n",
        "# len(files3)"
      ]
    },
    {
      "cell_type": "code",
      "execution_count": null,
      "metadata": {
        "id": "8YVYueocr-im"
      },
      "outputs": [],
      "source": [
        "def age_split(x): \n",
        "    return min(x//5, 19)"
      ]
    },
    {
      "cell_type": "markdown",
      "source": [
        "## $\\text{Read BW img}$"
      ],
      "metadata": {
        "id": "MrixpKMjfReb"
      }
    },
    {
      "cell_type": "code",
      "execution_count": null,
      "metadata": {
        "id": "1HHInUbHcljK"
      },
      "outputs": [],
      "source": [
        "images = []\n",
        "ages = []\n",
        "genders = []\n",
        "age_data = []\n",
        "gender_data = []\n",
        "for i, items in enumerate(files):\n",
        "    # print(base_path+items)\n",
        "    info = items.split(\"_\")\n",
        "    image = cv2.imread(base_path+items,0)\n",
        "    image = cv2.resize(image,dsize=(64, 64))\n",
        "    image = image/255\n",
        "    image = image.reshape((1, image.shape[0],image.shape[1]))\n",
        "    images.append(image)\n",
        "    age = int(info[0])\n",
        "    # print(i)\n",
        "    # print(age, age_split(age))\n",
        "    age_data.append(age_split(age))\n",
        " "
      ]
    },
    {
      "cell_type": "code",
      "execution_count": null,
      "metadata": {
        "colab": {
          "base_uri": "https://localhost:8080/",
          "height": 81
        },
        "id": "3k1tkwaEMDZN",
        "outputId": "17b1fd9f-33ee-432f-c2f5-3d5e54a95ec5"
      },
      "outputs": [
        {
          "output_type": "display_data",
          "data": {
            "text/plain": [
              "<PIL.Image.Image image mode=RGB size=64x64 at 0x7F594521A3A0>"
            ],
            "image/png": "[encoded data removed]"
          },
          "metadata": {}
        }
      ],
      "source": [
        "images = np.array(images)\n",
        "images.shape\n",
        "cv2_imshow(images[0].reshape(64, 64, 1)*255)"
      ]
    },
    {
      "cell_type": "markdown",
      "source": [
        "## $\\text{Read RGB img}$"
      ],
      "metadata": {
        "id": "rlGBY5DtfXqY"
      }
    },
    {
      "cell_type": "code",
      "source": [
        "preprocess = VGG19_Weights.IMAGENET1K_V1.transforms()\n",
        "preprocess.resize_size = 70\n",
        "preprocess.crop_size = 70\n",
        "\n",
        "images = []\n",
        "ages = []\n",
        "genders = []\n",
        "age_data = []\n",
        "gender_data = []\n",
        "for i, items in enumerate(files):\n",
        "    # print(base_path+items)\n",
        "    info = items.split(\"_\")\n",
        "    age = int(info[0])\n",
        "    age_data.append(age_split(age))\n",
        "    image = Image.open(base_path+items)\n",
        "    # image = cv2.resize(image,dsize=(64, 64))\n",
        "    # image = image/255\n",
        "    # image = image.reshape((1, image.shape[0],image.shape[1]))\n",
        "    # print(i)\n",
        "    # print(age, age_split(age))\n",
        "    image = preprocess(image)\n",
        "    images.append(image)\n",
        "    # image = None\n",
        "    # del image\n",
        "    # gc.collect()"
      ],
      "metadata": {
        "id": "geurvK9afd1s"
      },
      "execution_count": null,
      "outputs": []
    },
    {
      "cell_type": "code",
      "source": [
        "Image.open(base_path+files[0]).show()"
      ],
      "metadata": {
        "colab": {
          "base_uri": "https://localhost:8080/",
          "height": 217
        },
        "id": "9kJcytOrgBhC",
        "outputId": "994f28c6-491f-4b62-c9f1-6a0fcf1c71e4"
      },
      "execution_count": null,
      "outputs": [
        {
          "output_type": "display_data",
          "data": {
            "text/plain": [
              "<PIL.JpegImagePlugin.JpegImageFile image mode=RGB size=200x200 at 0x7FCAD31BEA00>"
            ],
            "image/png": "[encoded data removed]"
          },
          "metadata": {}
        }
      ]
    },
    {
      "cell_type": "markdown",
      "metadata": {
        "id": "k3aJENze9N8Q"
      },
      "source": [
        "# $\\text{Reset model and data}$"
      ]
    },
    {
      "cell_type": "code",
      "execution_count": null,
      "metadata": {
        "id": "fJylHFYaQkqE"
      },
      "outputs": [],
      "source": [
        "with torch.no_grad():\n",
        "    torch.cuda.empty_cache()"
      ]
    },
    {
      "cell_type": "code",
      "execution_count": null,
      "metadata": {
        "colab": {
          "base_uri": "https://localhost:8080/"
        },
        "id": "OY1en1zzQnyg",
        "outputId": "a1fa494d-b460-4a8c-ae1e-b1cd9fdd68f2"
      },
      "outputs": [
        {
          "output_type": "execute_result",
          "data": {
            "text/plain": [
              "0"
            ]
          },
          "metadata": {},
          "execution_count": 55
        }
      ],
      "source": [
        "test_model, optimizer = [None]*2\n",
        "x_val_fold, y_val_fold, x_train_fold, y_train_fold = [None]*4\n",
        "x_age_train, y_age_train, x_age_test, y_age_test = [None]*4\n",
        "inputs, output, loss, labels = [None]*4\n",
        "data_train, data_val, dataloader, val_loader = [None]*4\n",
        "import gc\n",
        "gc.collect()\n",
        "del test_model, optimizer\n",
        "del  x_val_fold, y_val_fold, x_train_fold, y_train_fold\n",
        "del x_age_train, y_age_train, x_age_test, y_age_test\n",
        "del inputs, output, loss, labels\n",
        "del data_train, data_val, dataloader, val_loader\n",
        "gc.collect()"
      ]
    },
    {
      "cell_type": "markdown",
      "metadata": {
        "id": "a2eTua_0OZTS"
      },
      "source": [
        "# $\\text{Setup split data}$"
      ]
    },
    {
      "cell_type": "markdown",
      "source": [
        "## $\\text{Check data distribution}$"
      ],
      "metadata": {
        "id": "j_6xW7LXPfjR"
      }
    },
    {
      "cell_type": "code",
      "source": [
        "ele, count = np.unique(age_data, return_counts=True)\n",
        "ele, count"
      ],
      "metadata": {
        "colab": {
          "base_uri": "https://localhost:8080/"
        },
        "id": "07k1lFKYJT20",
        "outputId": "7f1d42a6-4183-43b2-a9eb-f3bc543138e8"
      },
      "execution_count": null,
      "outputs": [
        {
          "output_type": "execute_result",
          "data": {
            "text/plain": [
              "(array([ 0,  1,  2,  3,  4,  5,  6,  7,  8,  9, 10, 11, 12, 13, 14, 15, 16,\n",
              "        17, 18, 19]),\n",
              " array([2167,  895,  589,  942, 2310, 5034, 2290, 2247, 1181, 1064, 1345,\n",
              "         954,  732,  586,  373,  326,  237,  267,  102,   67]))"
            ]
          },
          "metadata": {},
          "execution_count": 16
        }
      ]
    },
    {
      "cell_type": "markdown",
      "source": [
        "## $\\text{Set split count}$"
      ],
      "metadata": {
        "id": "9NJfXSvAPlSB"
      }
    },
    {
      "cell_type": "code",
      "execution_count": null,
      "metadata": {
        "id": "gwp-nlMbUgCi"
      },
      "outputs": [],
      "source": [
        "(TRAIN_SPLIT, VAL_SPLIT, TEST_SPLIT) = (0.8, 0.1, 0.1)\n",
        "# num_train = int(len(age_data)*TRAIN_SPLIT)\n",
        "# num_val = int(len(age_data)*VAL_SPLIT)\n",
        "# num_test = int(len(age_data)*TEST_SPLIT)"
      ]
    },
    {
      "cell_type": "markdown",
      "source": [
        "## $\\text{Split stratify}$"
      ],
      "metadata": {
        "id": "wAf3joV0Pomk"
      }
    },
    {
      "cell_type": "code",
      "execution_count": null,
      "metadata": {
        "id": "WIxxqd1AVl-6"
      },
      "outputs": [],
      "source": [
        "x_age_train, x_age_test, y_age_train, y_age_test = split_class_even(images, age_data, train_size = TRAIN_SPLIT+VAL_SPLIT, shuffle = True, stratify = age_data, random_state = 27)\n",
        "x_age_train = torch.stack(x_age_train).type(torch.float).to(\"cuda\")\n",
        "y_age_train = torch.tensor(y_age_train).type(torch.float).to(\"cuda\")\n",
        "x_age_test = torch.stack(x_age_test).type(torch.float).to(\"cuda\")\n",
        "y_age_test = torch.tensor(y_age_test).type(torch.float).to(\"cuda\")"
      ]
    },
    {
      "cell_type": "code",
      "source": [
        "x_age_train.shape, y_age_train.shape"
      ],
      "metadata": {
        "colab": {
          "base_uri": "https://localhost:8080/"
        },
        "id": "S6gRZHtqiZGF",
        "outputId": "8ce6b0db-fbab-4ddb-e40e-f4d00bf4b047"
      },
      "execution_count": null,
      "outputs": [
        {
          "output_type": "execute_result",
          "data": {
            "text/plain": [
              "(torch.Size([21337, 3, 70, 70]), torch.Size([21337]))"
            ]
          },
          "metadata": {},
          "execution_count": 19
        }
      ]
    },
    {
      "cell_type": "code",
      "source": [
        "y_age_train.max(), y_age_train.min()"
      ],
      "metadata": {
        "colab": {
          "base_uri": "https://localhost:8080/"
        },
        "id": "CpLeNwf_LBab",
        "outputId": "bc66479b-e348-40ed-c714-c515ece767dc"
      },
      "execution_count": null,
      "outputs": [
        {
          "output_type": "execute_result",
          "data": {
            "text/plain": [
              "(tensor(19., device='cuda:0'), tensor(0., device='cuda:0'))"
            ]
          },
          "metadata": {},
          "execution_count": 20
        }
      ]
    },
    {
      "cell_type": "code",
      "execution_count": null,
      "metadata": {
        "id": "22IhhAXSmn8o"
      },
      "outputs": [],
      "source": [
        "ele, count = torch.unique(y_age_train, return_counts=True)\n",
        "ele2, count2 = torch.unique(y_age_test, return_counts=True)"
      ]
    },
    {
      "cell_type": "code",
      "source": [
        "count, count2"
      ],
      "metadata": {
        "colab": {
          "base_uri": "https://localhost:8080/"
        },
        "id": "UOgzDrzaB-mX",
        "outputId": "7d701c26-70c9-4416-a4e2-aad86b0f4b7d"
      },
      "execution_count": null,
      "outputs": [
        {
          "output_type": "execute_result",
          "data": {
            "text/plain": [
              "(tensor([1950,  806,  530,  848, 2079, 4531, 2061, 2022, 1063,  958, 1210,  859,\n",
              "          659,  527,  336,  293,  213,  240,   92,   60], device='cuda:0'),\n",
              " tensor([217,  89,  59,  94, 231, 503, 229, 225, 118, 106, 135,  95,  73,  59,\n",
              "          37,  33,  24,  27,  10,   7], device='cuda:0'))"
            ]
          },
          "metadata": {},
          "execution_count": 22
        }
      ]
    },
    {
      "cell_type": "markdown",
      "source": [
        "## $\\text{Setup weight Cross Entropy loss}$"
      ],
      "metadata": {
        "id": "JBqjdORGPutm"
      }
    },
    {
      "cell_type": "code",
      "source": [
        "sqrt_ele = torch.sqrt(torch.max(count)*torch.min(count))\n",
        "min_arg = torch.argmin(torch.abs(count-sqrt_ele))\n",
        "weight_cel = count[min_arg]/count\n",
        "weight_cel"
      ],
      "metadata": {
        "colab": {
          "base_uri": "https://localhost:8080/"
        },
        "id": "-m5R5EWMNy6J",
        "outputId": "2534dcd4-7b83-4ec0-b6f9-706433f5f717"
      },
      "execution_count": null,
      "outputs": [
        {
          "output_type": "execute_result",
          "data": {
            "text/plain": [
              "tensor([0.2703, 0.6538, 0.9943, 0.6215, 0.2535, 0.1163, 0.2557, 0.2606, 0.4958,\n",
              "        0.5501, 0.4355, 0.6135, 0.7997, 1.0000, 1.5685, 1.7986, 2.4742, 2.1958,\n",
              "        5.7283, 8.7833], device='cuda:0')"
            ]
          },
          "metadata": {},
          "execution_count": 23
        }
      ]
    },
    {
      "cell_type": "markdown",
      "metadata": {
        "id": "dtN9UDeYD1RI"
      },
      "source": [
        "# $\\text{Make model}$"
      ]
    },
    {
      "cell_type": "code",
      "source": [
        "INIT_LR = 0.0001\n",
        "BATCH_SIZE = 32"
      ],
      "metadata": {
        "id": "gaHrA1Xtjjr7"
      },
      "execution_count": null,
      "outputs": []
    },
    {
      "cell_type": "markdown",
      "source": [
        "## $\\text{CNN}$"
      ],
      "metadata": {
        "id": "A8DGoRYndvrT"
      }
    },
    {
      "cell_type": "code",
      "execution_count": null,
      "metadata": {
        "id": "jwTtvdDKGNvT"
      },
      "outputs": [],
      "source": [
        "from torch.nn.modules.dropout import Dropout\n",
        "class CNN(Module):\n",
        "\tdef __init__(self):\n",
        "\t\t# call the parent constructor\n",
        "\t\tsuper(CNN, self).__init__()\n",
        "\t\t# initialize first set of CONV => RELU => POOL layers\n",
        "\t\tself.relu = ReLU()\n",
        "\t\tself.conv1 = Conv2d(in_channels=1, out_channels=32, kernel_size=(3, 3))\n",
        "\t\tself.maxpool1 = MaxPool2d(kernel_size=(2, 2), stride=(2, 2))\n",
        "\t\t# initialize second set of CONV => RELU => POOL layers\n",
        "\t\tself.conv2 = Conv2d(in_channels=32, out_channels=128, kernel_size=(3, 3))\n",
        "\t\tself.maxpool2 = MaxPool2d(kernel_size=(2, 2), stride=(2, 2))\n",
        "\t\tself.conv3 = Conv2d(in_channels=128, out_channels=256, kernel_size=(3, 3))\n",
        "\t\tself.maxpool3 = MaxPool2d(kernel_size=(2, 2), stride=(2, 2))\n",
        "\t\tself.conv4 = Conv2d(in_channels=256, out_channels=512, kernel_size=(3, 3), stride=2)\n",
        "\t\tself.maxpool4 = MaxPool2d(kernel_size=(2, 2), stride=(2, 2))\n",
        "\t\tself.conv5 = Conv2d(in_channels=256, out_channels=521, kernel_size=(3, 3))\n",
        "\t\tself.maxpool5 = MaxPool2d(kernel_size=(2, 2), stride=(2, 2))\n",
        "\t\t# initialize first (and only) set of FC => RELU layers\n",
        "\t\t# initialize our softmax classifier\n",
        "\t\tself.fc2 = Linear(in_features=1024, out_features=512)\n",
        "\t\tself.fc3 = Linear(in_features=512, out_features=512)\n",
        "\t\tself.fc4 = Linear(in_features=512, out_features=256)\n",
        "\t\tself.fc5 = Linear(in_features=256, out_features=256)\n",
        "\t\tself.fc6 = Linear(in_features=256, out_features=128)\n",
        "\t\tself.fc7 = Linear(in_features=128, out_features=10)\n",
        "\t\tself.lsm = LogSoftmax(dim=1)\n",
        "\t\tself.do1 = Dropout(0.5)\n",
        "\t\tself.do2 = Dropout(0.5)\n",
        "\tdef forward(self, x):\n",
        "\t\t# pass the input through our first set of CONV => RELU =>\n",
        "\t\t# POOL layers\n",
        "\t\tx = self.conv1(x)\n",
        "\t\tx = self.relu(x)\n",
        "\t\tx = self.maxpool1(x)\n",
        "\t\t# pass the output from the previous layer through the second\n",
        "\t\t# set of CONV => RELU => POOL layers\n",
        "\t\tx = self.conv2(x)\n",
        "\t\tx = self.relu(x)\n",
        "\t\tx = self.maxpool2(x)\n",
        "\t\tx = self.do1(x)\n",
        "\t\tx = self.conv3(x)\n",
        "\t\t# x = self.relu(x)\n",
        "\t\t# x = self.maxpool3(x)\n",
        "\n",
        "\n",
        "\t\t# x = self.conv4(x)\n",
        "\t\t# x = self.relu(x)\n",
        "\t\t# x = self.maxpool4(x)\n",
        "\t\t# x = self.conv5(x)\n",
        "\t\t# x = self.relu(x)\n",
        "\t\t# x = self.maxpool5(x)\n",
        "\t\t# flatten the output from the previous layer and pass it\n",
        "\t\t# through our only set of FC => RELU layers\n",
        "\t\tx = flatten(x, 1)\n",
        "\t\tshape = x.shape[1]\n",
        "\t\tx = Linear(in_features=shape, out_features=1024, device = \"cuda\")(x)\n",
        "\t\tx = self.relu(x)\n",
        "\t\tx = self.do2(x)\n",
        "\t\tx = self.fc2(x)\n",
        "\t\tx = self.relu(x)\n",
        "\t\tx = self.do2(x)\n",
        "\t\tx = self.fc3(x)\n",
        "\t\tx = self.relu(x)\n",
        "\t\tx = self.do2(x)\n",
        "\t\tx = self.fc4(x)\n",
        "\t\tx = self.relu(x)\n",
        "\t\tx = self.do2(x)\n",
        "\t\tx = self.fc5(x)\n",
        "\t\tx = self.relu(x)\n",
        "\t\tx = self.do2(x)\n",
        "\t\tx = self.fc6(x)\n",
        "\t\tx = self.relu(x)\n",
        "\t\tx = self.fc7(x)\n",
        "\t\t# return the output predictions\n",
        "\t\treturn x\n",
        "\n",
        "# define training hyperparameters\n",
        "\n",
        "# # test_model = CNN()\n",
        "# device = torch.device(\"cuda\" if torch.cuda.is_available() else \"cpu\")\n",
        "# criterion = nn.MSELoss()\n",
        "# optimizer = SGD(test_model.parameters(), lr = INIT_LR)\n",
        "# test_model.to(\"cuda\")"
      ]
    },
    {
      "cell_type": "code",
      "execution_count": null,
      "metadata": {
        "colab": {
          "base_uri": "https://localhost:8080/"
        },
        "id": "doCRt2WccXU7",
        "outputId": "d54b31db-a98e-4e21-eb58-c0555c5c5f7c"
      },
      "outputs": [
        {
          "output_type": "stream",
          "name": "stdout",
          "text": [
            "----------------------------------------------------------------\n",
            "        Layer (type)               Output Shape         Param #\n",
            "================================================================\n",
            "            Conv2d-1           [-1, 32, 62, 62]             320\n",
            "              ReLU-2           [-1, 32, 62, 62]               0\n",
            "         MaxPool2d-3           [-1, 32, 31, 31]               0\n",
            "            Conv2d-4          [-1, 128, 29, 29]          36,992\n",
            "              ReLU-5          [-1, 128, 29, 29]               0\n",
            "         MaxPool2d-6          [-1, 128, 14, 14]               0\n",
            "           Dropout-7          [-1, 128, 14, 14]               0\n",
            "            Conv2d-8          [-1, 256, 12, 12]         295,168\n",
            "              ReLU-9                 [-1, 1024]               0\n",
            "          Dropout-10                 [-1, 1024]               0\n",
            "           Linear-11                  [-1, 512]         524,800\n",
            "             ReLU-12                  [-1, 512]               0\n",
            "          Dropout-13                  [-1, 512]               0\n",
            "           Linear-14                  [-1, 512]         262,656\n",
            "             ReLU-15                  [-1, 512]               0\n",
            "          Dropout-16                  [-1, 512]               0\n",
            "           Linear-17                  [-1, 256]         131,328\n",
            "             ReLU-18                  [-1, 256]               0\n",
            "          Dropout-19                  [-1, 256]               0\n",
            "           Linear-20                  [-1, 256]          65,792\n",
            "             ReLU-21                  [-1, 256]               0\n",
            "          Dropout-22                  [-1, 256]               0\n",
            "           Linear-23                  [-1, 128]          32,896\n",
            "             ReLU-24                  [-1, 128]               0\n",
            "           Linear-25                   [-1, 10]           1,290\n",
            "================================================================\n",
            "Total params: 1,351,242\n",
            "Trainable params: 1,351,242\n",
            "Non-trainable params: 0\n",
            "----------------------------------------------------------------\n",
            "Input size (MB): 0.02\n",
            "Forward/backward pass size (MB): 4.47\n",
            "Params size (MB): 5.15\n",
            "Estimated Total Size (MB): 9.64\n",
            "----------------------------------------------------------------\n"
          ]
        }
      ],
      "source": [
        "x = CNN()\n",
        "x.to(\"cuda\")\n",
        "summary(x, (1, 64, 64))"
      ]
    },
    {
      "cell_type": "markdown",
      "source": [
        "## $\\text{VGG19}$"
      ],
      "metadata": {
        "id": "awbafDhDd4T7"
      }
    },
    {
      "cell_type": "code",
      "source": [
        "weights = VGG19_Weights.IMAGENET1K_V1\n",
        "weights.get_state_dict(progress=True)"
      ],
      "metadata": {
        "id": "wa1BiBEhnGqF"
      },
      "execution_count": null,
      "outputs": []
    },
    {
      "cell_type": "code",
      "source": [
        "vgg19_model = vgg19()\n",
        "vgg19_model.classifier = nn.Sequential(\n",
        "    nn.Flatten(),\n",
        "    vgg19_model.classifier\n",
        ")\n",
        "vgg19_model.classifier[1][-1] = nn.Linear(in_features=4096, out_features=20, bias=True)\n"
      ],
      "metadata": {
        "id": "F9uMK0t4ePsg"
      },
      "execution_count": null,
      "outputs": []
    },
    {
      "cell_type": "markdown",
      "source": [
        "### $\\text{Model achitecture}$"
      ],
      "metadata": {
        "id": "AoMwhD4gi1cL"
      }
    },
    {
      "cell_type": "code",
      "source": [
        "vgg19_model"
      ],
      "metadata": {
        "id": "0OG0DLjGipLe"
      },
      "execution_count": null,
      "outputs": []
    },
    {
      "cell_type": "code",
      "source": [
        "summary(vgg19_model.to(\"cuda\"), (3, 70, 70))"
      ],
      "metadata": {
        "id": "TrpBeDEofCJ2"
      },
      "execution_count": null,
      "outputs": []
    },
    {
      "cell_type": "code",
      "source": [
        "vgg19_model(x_age_train[0:3]).argmax(1)"
      ],
      "metadata": {
        "colab": {
          "base_uri": "https://localhost:8080/"
        },
        "id": "ru8U3hapfEkO",
        "outputId": "3b74cf7d-afe8-4d34-a766-d3644f42eb75"
      },
      "execution_count": null,
      "outputs": [
        {
          "output_type": "execute_result",
          "data": {
            "text/plain": [
              "tensor([10,  5,  5], device='cuda:0')"
            ]
          },
          "metadata": {},
          "execution_count": 63
        }
      ]
    },
    {
      "cell_type": "markdown",
      "metadata": {
        "id": "c2GspZjqb7gu"
      },
      "source": [
        "# $\\text{Start running age}$\n"
      ]
    },
    {
      "cell_type": "code",
      "execution_count": null,
      "metadata": {
        "id": "PUb23AwQ9VZU"
      },
      "outputs": [],
      "source": [
        "# test_model = CNN()\n",
        "device = torch.device(\"cuda\" if torch.cuda.is_available() else \"cpu\")\n",
        "\n",
        "max_fold = 9\n",
        "\n",
        "def main(mtype = \"vgg\",loaded = None, \n",
        "         optim = SGD, learn_rate = INIT_LR, crit = nn.CrossEntropyLoss(weight = weight_cel), \n",
        "         max_ep = 100, max_fd = max_fold):\n",
        "    if mtype == \"cnn\":\n",
        "      test_model = CNN()\n",
        "    else:\n",
        "      test_model = vgg19(weights = weights)\n",
        "      test_model.classifier = nn.Sequential(\n",
        "        nn.Flatten(),\n",
        "        test_model.classifier\n",
        "      )\n",
        "      test_model.classifier[1][-1] = nn.Linear(in_features=4096, out_features=20, bias=True)\n",
        "    test_model.to(\"cuda\")\n",
        "    optimizer = optim(test_model.parameters(), lr = learn_rate, momentum = 0.9)\n",
        "    if loaded != None:\n",
        "      test_model.load_state_dict(loaded[\"model_state_dict\"])\n",
        "      optimizer.load_state_dict(loaded[\"optimizer_state_dict\"])\n",
        "    best_acc = 0\n",
        "    criterion = crit\n",
        "    for epoch in range(max_ep):\n",
        "        i = 1\n",
        "        kf = kfold(n_splits = max_fd, shuffle=True)\n",
        "        for train_index, val_index in kf.split(x_age_train.to(\"cpu\"), y_age_train.to(\"cpu\")):\n",
        "            running_train_lost = 0.0\n",
        "            running_val_lost = 0.0\n",
        "            x_train_fold = x_age_train[train_index].to(\"cuda\") \n",
        "            y_train_fold = y_age_train[train_index].to(\"cuda\") \n",
        "            x_val_fold = x_age_train[val_index].to(\"cuda\") \n",
        "            y_val_fold = y_age_train[val_index].to(\"cuda\") \n",
        "            # print(y_train_fold.unique(return_counts=True))\n",
        "            # print(y_val_fold.unique(return_counts=True))\n",
        "            data_train = TensorDataset(x_train_fold, y_train_fold)\n",
        "            data_val = TensorDataset(x_val_fold, y_val_fold)\n",
        "\n",
        "            dataloader = DataLoader(data_train, batch_size=BATCH_SIZE, shuffle=True)\n",
        "            val_loader = DataLoader(data_val, batch_size=BATCH_SIZE, shuffle=True)\n",
        "            print(\"Epoch\", epoch+1)\n",
        "            test_model.train()\n",
        "            for inputs, labels in (dataloader):\n",
        "                optimizer.zero_grad()\n",
        "                outputs = (test_model(inputs).flatten(1))\n",
        "                loss = criterion(outputs, labels.type(torch.LongTensor).to(\"cuda\"))\n",
        "                loss.backward()\n",
        "                # torch.nn.utils.clip_grad_norm_(test_model.parameters(), 5)\n",
        "                optimizer.step()\n",
        "                running_train_lost += loss.item()\n",
        "                \n",
        "            train_fold_loss = running_train_lost / len(dataloader)\n",
        "\n",
        "            test_model.eval()\n",
        "            with torch.inference_mode():\n",
        "                for count, (inputs, labels) in enumerate(val_loader):\n",
        "                    optimizer.zero_grad()\n",
        "                    outputs = test_model(inputs).flatten(1)\n",
        "                    loss = criterion(outputs, labels.type(torch.LongTensor).to(\"cuda\"))\n",
        "                    if count % 100 == 0:\n",
        "                    #   print(inputs[:3])\n",
        "                    #   print(\"Output\")\n",
        "                    #   print(outputs[:3])\n",
        "                      print(\"Output prob\")\n",
        "                      print(torch.softmax(outputs[:3], 1))\n",
        "                      print(\"Predict\")\n",
        "                      print(torch.argmax(outputs[:3], 1))\n",
        "                      print(\"Labels\")\n",
        "                      print(labels[:3])\n",
        "                      print(\"Loss\")\n",
        "                      print(loss.item())\n",
        "                    running_val_lost += loss.item()\n",
        "                val_fold_loss = running_val_lost / len(val_loader)\n",
        "                print('Fold [{}/{}], Train Loss: {:.4f}'.format(i, max_fold, train_fold_loss))\n",
        "                print('Fold [{}/{}], Val Loss: {:.4f}\\n'.format(i, max_fold, val_fold_loss))\n",
        "            i += 1\n",
        "        torch.save({\"model_state_dict\": test_model.state_dict(),\n",
        "        'optimizer_state_dict': optimizer.state_dict()}, f\"/content/Checkpoint/model2_{epoch+1}.pth\")\n",
        "    \n",
        "        data_test = TensorDataset(x_age_test, y_age_test)\n",
        "        test_loader = DataLoader(data_test, batch_size=1)\n",
        "        # optimizer = SGD(test_model.parameters(), lr = INIT_LR, momentum = 0.9)\n",
        "        # criterion = nn.CrossEntropyLoss()\n",
        "\n",
        "        predict = []\n",
        "        real = []\n",
        "        test_model.to(\"cuda\")\n",
        "        test_model.eval()\n",
        "        running_test_lost = 0\n",
        "        with torch.inference_mode():\n",
        "            for inputs, labels in (test_loader):\n",
        "                optimizer.zero_grad()\n",
        "                outputs = (test_model(inputs.type(torch.float).to(\"cuda\")))\n",
        "                # print(torch.softmax(outputs, 1))\n",
        "                # print(torch.argmax(torch.softmax(outputs, 1)).item(), int(labels.item()))\n",
        "                predict.append(torch.argmax(torch.softmax(outputs, 1)).item())\n",
        "                real.append(labels.item())\n",
        "                loss = criterion(outputs, labels.type(torch.LongTensor).to(\"cuda\"))\n",
        "                # print(loss.item())\n",
        "                running_test_lost += loss.item()\n",
        "            test_fold_loss = running_test_lost / len(test_loader)\n",
        "            print('Test Loss: {:.4f}\\n'.format(test_fold_loss))\n",
        "        age = pd.DataFrame(np.array([predict, real]).T, columns = [\"Predict\", \"Actual\"])\n",
        "\n",
        "        # age\n",
        "        x = ((np.diff(age.values)))\n",
        "        age[\"Dif\"] = x\n",
        "\n",
        "        if best_acc < np.count_nonzero(x==0)/len(x):\n",
        "            print(f\"Old acc: {best_acc}, new acc {np.count_nonzero(x==0)/len(x)}\")\n",
        "            best_acc =  np.count_nonzero(x==0)/len(x)\n",
        "            os.system(f'cp /content/Checkpoint/model2_{epoch+1}.pth \"/content/gdrive/My Drive/Checkpoint/best_model.pth\"')\n",
        "        print(\"Accuracy\")\n",
        "        print(np.count_nonzero(x==0)/len(x))\n",
        "        print(np.mean(x**2)**0.5)\n",
        "    return (test_model, optimizer.state_dict())\n"
      ]
    },
    {
      "cell_type": "code",
      "execution_count": null,
      "metadata": {
        "id": "ok_zJTQnoBX0"
      },
      "outputs": [],
      "source": [
        "(test_model, optim_dict) = main()"
      ]
    },
    {
      "cell_type": "code",
      "execution_count": null,
      "metadata": {
        "id": "Bg8xcb5gBg5i"
      },
      "outputs": [],
      "source": [
        "(test_model, optim_dict) = main(loaded = torch.load(\"/content/Checkpoint/model2_2.pth\"))"
      ]
    },
    {
      "cell_type": "markdown",
      "metadata": {
        "id": "HPA6aPHPEF27"
      },
      "source": [
        "# $\\text{Export model}$"
      ]
    },
    {
      "cell_type": "code",
      "execution_count": null,
      "metadata": {
        "id": "7m8NxNV-zO79"
      },
      "outputs": [],
      "source": [
        "torch.save({\"model_state_dict\": test_model.state_dict(),\n",
        "            'optimizer_state_dict': optim_dict}, \"/content/gdrive/My Drive/Checkpoint/best_model.pth\")\n",
        "\n"
      ]
    },
    {
      "cell_type": "code",
      "source": [
        "test_model = vgg19()\n",
        "test_model.classifier = nn.Sequential(\n",
        "        nn.Flatten(),\n",
        "        test_model.classifier\n",
        "      )\n",
        "test_model.classifier[1][-1] = nn.Linear(in_features=4096, out_features=20, bias=True)"
      ],
      "metadata": {
        "id": "Rpz3oafD_EpW"
      },
      "execution_count": null,
      "outputs": []
    },
    {
      "cell_type": "code",
      "execution_count": null,
      "metadata": {
        "id": "kNHBlSuW72o7"
      },
      "outputs": [],
      "source": [
        "cp = torch.load(\"/content/gdrive/My Drive/Checkpoint/best_model.pth\")\n",
        "test_model.load_state_dict(cp['model_state_dict'])\n",
        "\n",
        "# test_model.state_dict()\n",
        "data_test = TensorDataset(x_age_test, y_age_test)\n",
        "test_loader = DataLoader(data_test, batch_size=1)\n",
        "optimizer = SGD(test_model.parameters(), lr = INIT_LR, momentum = 0.9)\n",
        "criterion = nn.CrossEntropyLoss()\n",
        "\n",
        "predict = []\n",
        "real = []\n",
        "test_model.to(\"cuda\")\n",
        "test_model.eval()\n",
        "running_test_lost = 0\n",
        "with torch.inference_mode():\n",
        "    for inputs, labels in (test_loader):\n",
        "        optimizer.zero_grad()\n",
        "        outputs = (test_model(inputs.type(torch.float).to(\"cuda\")))\n",
        "        # print(torch.softmax(outputs, 1))\n",
        "        # print(torch.argmax(torch.softmax(outputs, 1)).item(), int(labels.item()))\n",
        "        predict.append(torch.argmax(torch.softmax(outputs, 1)).item())\n",
        "        real.append(labels.item())\n",
        "        loss = criterion(outputs, labels.type(torch.LongTensor).to(\"cuda\"))\n",
        "        # print(loss.item())\n",
        "        running_test_lost += loss.item()\n",
        "    test_fold_loss = running_test_lost / len(test_loader)\n",
        "    print('Test Loss: {:.4f}\\n'.format(test_fold_loss))\n",
        "age = pd.DataFrame(np.array([predict, real]).T, columns = [\"Predict\", \"Actual\"])\n",
        "\n",
        "# age\n",
        "x = ((np.diff(age.values)))\n",
        "age[\"Dif\"] = x\n",
        "print(\"Accuracy\")\n",
        "acc = np.count_nonzero(x==0)/len(x)\n",
        "print(acc)\n",
        "print(np.mean(x**2)**0.5)"
      ]
    },
    {
      "cell_type": "markdown",
      "source": [
        "# $\\text{Conclude}$"
      ],
      "metadata": {
        "id": "SpSi5ue7CYsM"
      }
    },
    {
      "cell_type": "code",
      "source": [
        "age.to_csv(\"/content/gdrive/My Drive/Checkpoint/result.csv\",index = False)"
      ],
      "metadata": {
        "id": "AkGzOaI_9Bwf"
      },
      "execution_count": null,
      "outputs": []
    },
    {
      "cell_type": "code",
      "source": [
        "cfm = confusion_matrix(real, predict, labels=[i for i in range(20)])\n",
        "cfm"
      ],
      "metadata": {
        "id": "QDUo-HJpCqGr"
      },
      "execution_count": null,
      "outputs": []
    },
    {
      "cell_type": "code",
      "source": [
        "s = np.sum((cfm), 0)"
      ],
      "metadata": {
        "id": "P7mZwECJD61t"
      },
      "execution_count": null,
      "outputs": []
    },
    {
      "cell_type": "code",
      "source": [
        "s"
      ],
      "metadata": {
        "colab": {
          "base_uri": "https://localhost:8080/"
        },
        "id": "1xW5vitTEkBF",
        "outputId": "10545fec-6537-4b99-88d4-ff2ddc6e2a42"
      },
      "execution_count": null,
      "outputs": [
        {
          "output_type": "execute_result",
          "data": {
            "text/plain": [
              "array([214,  79,  54,  65, 174, 636, 151, 375,  78,  62, 165,  77,  89,\n",
              "        59,  25,  17,  12,  31,   2,   6])"
            ]
          },
          "metadata": {},
          "execution_count": 32
        }
      ]
    },
    {
      "cell_type": "code",
      "source": [
        "ratio = cfm/s"
      ],
      "metadata": {
        "id": "8qsdUNO-EMjT"
      },
      "execution_count": null,
      "outputs": []
    },
    {
      "cell_type": "code",
      "source": [
        "ratio"
      ],
      "metadata": {
        "id": "-DD736bmEVb7"
      },
      "execution_count": null,
      "outputs": []
    },
    {
      "cell_type": "code",
      "source": [
        "%matplotlib inline\n",
        "# plt.rcParams[\"figure.figsize\"] = (60,60)\n",
        "\n",
        "# font = {'size': 30}\n",
        "# plt.figure(facecolor='black')\n",
        "# matplotlib.rc('font', **font)\n",
        "# plt.xticks(fontsize=40)\n",
        "# plt.yticks(fontsize=40)\n",
        "# disp = ConfusionMatrixDisplay(confusion_matrix=ratio.round(3),display_labels=[i for i in range(20)])\n",
        "# disp.plot()\n",
        "# plt.savefig('/content/gdrive/My Drive/Checkpoint/foo.png', facecolor = \"white\", transparent = False)\n",
        "# plt.show()\n",
        "# print(ratio)\n",
        "labels = [i for i in range(20)]\n",
        "fig = plt.figure()\n",
        "ax = fig.add_subplot(111)\n",
        "cax = ax.matshow(ratio)\n",
        "plt.title('Confusion matrix of the classifier')\n",
        "fig.colorbar(cax)\n",
        "ax.set_xticklabels([''] + labels)\n",
        "ax.set_yticklabels([''] + labels)\n",
        "plt.xlabel('Predicted')\n",
        "plt.ylabel('True')\n",
        "plt.show()"
      ],
      "metadata": {
        "id": "R04LpXejBsoq"
      },
      "execution_count": null,
      "outputs": []
    },
    {
      "cell_type": "code",
      "source": [
        "def plot_confusion_matrix(cm,\n",
        "                          target_names,\n",
        "                          title='Confusion matrix',\n",
        "                          cmap=None,\n",
        "                          normalize=True):\n",
        "    \"\"\"\n",
        "    given a sklearn confusion matrix (cm), make a nice plot\n",
        "\n",
        "    Arguments\n",
        "    ---------\n",
        "    cm:           confusion matrix from sklearn.metrics.confusion_matrix\n",
        "\n",
        "    target_names: given classification classes such as [0, 1, 2]\n",
        "                  the class names, for example: ['high', 'medium', 'low']\n",
        "\n",
        "    title:        the text to display at the top of the matrix\n",
        "\n",
        "    cmap:         the gradient of the values displayed from matplotlib.pyplot.cm\n",
        "                  see http://matplotlib.org/examples/color/colormaps_reference.html\n",
        "                  plt.get_cmap('jet') or plt.cm.Blues\n",
        "\n",
        "    normalize:    If False, plot the raw numbers\n",
        "                  If True, plot the proportions\n",
        "\n",
        "    Usage\n",
        "    -----\n",
        "    plot_confusion_matrix(cm           = cm,                  # confusion matrix created by\n",
        "                                                              # sklearn.metrics.confusion_matrix\n",
        "                          normalize    = True,                # show proportions\n",
        "                          target_names = y_labels_vals,       # list of names of the classes\n",
        "                          title        = best_estimator_name) # title of graph\n",
        "\n",
        "    Citiation\n",
        "    ---------\n",
        "    http://scikit-learn.org/stable/auto_examples/model_selection/plot_confusion_matrix.html\n",
        "\n",
        "    \"\"\"\n",
        "    import matplotlib.pyplot as plt\n",
        "    import numpy as np\n",
        "    import itertools\n",
        "\n",
        "    accuracy = np.trace(cm) / np.sum(cm).astype('float')\n",
        "    misclass = 1 - accuracy\n",
        "\n",
        "    if cmap is None:\n",
        "        cmap = plt.get_cmap('Blues')\n",
        "\n",
        "    plt.figure(figsize=(20,20))\n",
        "    plt.imshow(cm, interpolation='nearest', cmap=cmap)\n",
        "    plt.title(title)\n",
        "    plt.colorbar()\n",
        "\n",
        "    if target_names is not None:\n",
        "        tick_marks = np.arange(len(target_names))\n",
        "        plt.xticks(tick_marks, target_names, rotation=45)\n",
        "        plt.yticks(tick_marks, target_names)\n",
        "\n",
        "    if normalize:\n",
        "        cm = cm.astype('float') / cm.sum(axis=1)[:, np.newaxis]\n",
        "\n",
        "\n",
        "    thresh = cm.max() / 1.5 if normalize else cm.max() / 2\n",
        "    for i, j in itertools.product(range(cm.shape[0]), range(cm.shape[1])):\n",
        "        if normalize:\n",
        "            plt.text(j, i, \"{:0.4f}\".format(cm[i, j]),\n",
        "                     horizontalalignment=\"center\",\n",
        "                     color=\"white\" if cm[i, j] > thresh else \"black\")\n",
        "        else:\n",
        "            plt.text(j, i, \"{:,}\".format(cm[i, j]),\n",
        "                     horizontalalignment=\"center\",\n",
        "                     color=\"white\" if cm[i, j] > thresh else \"black\")\n",
        "\n",
        "\n",
        "    plt.tight_layout()\n",
        "    plt.ylabel('True label')\n",
        "    plt.xlabel('Predicted label\\naccuracy={:0.4f}; misclass={:0.4f}'.format(accuracy, misclass))\n",
        "    plt.show()"
      ],
      "metadata": {
        "id": "vnEmv3hrCTFF"
      },
      "execution_count": null,
      "outputs": []
    },
    {
      "cell_type": "code",
      "source": [
        "plot_confusion_matrix(ratio, [i for i in range(20)],\"VGG19 Confusion matrix\",\"viridis\")"
      ],
      "metadata": {
        "id": "8oKlvoMuCdMO"
      },
      "execution_count": null,
      "outputs": []
    },
    {
      "cell_type": "code",
      "source": [
        "from google.colab import files\n",
        "files.download('/content/Checkpoint/model2_9.pth') "
      ],
      "metadata": {
        "colab": {
          "base_uri": "https://localhost:8080/",
          "height": 34
        },
        "id": "pHXYfZ-NF8lo",
        "outputId": "3266e416-9cdf-449d-9b14-825e6186f2a4"
      },
      "execution_count": null,
      "outputs": [
        {
          "output_type": "display_data",
          "data": {
            "text/plain": [
              "<IPython.core.display.Javascript object>"
            ],
            "application/javascript": [
              "\n",
              "    async function download(id, filename, size) {\n",
              "      if (!google.colab.kernel.accessAllowed) {\n",
              "        return;\n",
              "      }\n",
              "      const div = document.createElement('div');\n",
              "      const label = document.createElement('label');\n",
              "      label.textContent = `Downloading \"${filename}\": `;\n",
              "      div.appendChild(label);\n",
              "      const progress = document.createElement('progress');\n",
              "      progress.max = size;\n",
              "      div.appendChild(progress);\n",
              "      document.body.appendChild(div);\n",
              "\n",
              "      const buffers = [];\n",
              "      let downloaded = 0;\n",
              "\n",
              "      const channel = await google.colab.kernel.comms.open(id);\n",
              "      // Send a message to notify the kernel that we're ready.\n",
              "      channel.send({})\n",
              "\n",
              "      for await (const message of channel.messages) {\n",
              "        // Send a message to notify the kernel that we're ready.\n",
              "        channel.send({})\n",
              "        if (message.buffers) {\n",
              "          for (const buffer of message.buffers) {\n",
              "            buffers.push(buffer);\n",
              "            downloaded += buffer.byteLength;\n",
              "            progress.value = downloaded;\n",
              "          }\n",
              "        }\n",
              "      }\n",
              "      const blob = new Blob(buffers, {type: 'application/binary'});\n",
              "      const a = document.createElement('a');\n",
              "      a.href = window.URL.createObjectURL(blob);\n",
              "      a.download = filename;\n",
              "      div.appendChild(a);\n",
              "      a.click();\n",
              "      div.remove();\n",
              "    }\n",
              "  "
            ]
          },
          "metadata": {}
        },
        {
          "output_type": "display_data",
          "data": {
            "text/plain": [
              "<IPython.core.display.Javascript object>"
            ],
            "application/javascript": [
              "download(\"download_bec7502e-8b79-4b79-8429-991ac53096e0\", \"model2_9.pth\", 1117242575)"
            ]
          },
          "metadata": {}
        }
      ]
    }
  ],
  "metadata": {
    "accelerator": "GPU",
    "colab": {
      "provenance": [],
      "include_colab_link": true
    },
    "gpuClass": "standard",
    "kernelspec": {
      "display_name": "Python 3",
      "name": "python3"
    },
    "language_info": {
      "name": "python"
    }
  },
  "nbformat": 4,
  "nbformat_minor": 0
}